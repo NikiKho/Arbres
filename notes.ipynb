{
 "cells": [
  {
   "cell_type": "code",
   "execution_count": null,
   "id": "00512ba1-8a34-4cdc-8d6d-be9344cd1240",
   "metadata": {},
   "outputs": [],
   "source": [
    "print(matplotlib.__version__) #version\n"
   ]
  },
  {
   "cell_type": "code",
   "execution_count": null,
   "id": "956eb316-84df-4fdd-907b-fd46be712ca9",
   "metadata": {},
   "outputs": [],
   "source": [
    "import matplotlib.pyplot as plt\n",
    "import numpy as np\n",
    "\n",
    "xpoints = np.array([0, 6])\n",
    "ypoints = np.array([0, 250])\n",
    "\n",
    "plt.plot(xpoints, ypoints)\n",
    "plt.show()\n",
    "\n",
    "#Two  lines to make our compiler able to draw:\n",
    "plt.savefig(sys.stdout.buffer)\n",
    "sys.stdout.flush()"
   ]
  },
  {
   "cell_type": "code",
   "execution_count": null,
   "id": "622eecb1-0393-4c71-bcaf-22b5c4cbea4b",
   "metadata": {},
   "outputs": [],
   "source": [
    "plt.plot(ypoints, marker = 'o') #markers krug (marker = '*')"
   ]
  },
  {
   "cell_type": "code",
   "execution_count": null,
   "id": "52999b98-c05b-48bb-88bc-04c25413becf",
   "metadata": {},
   "outputs": [],
   "source": [
    "plt.plot(ypoints, linestyle = 'dotted') #linestyle = 'dashed'"
   ]
  },
  {
   "cell_type": "code",
   "execution_count": null,
   "id": "8ecf66de-a32f-4e13-bf81-69188f664c07",
   "metadata": {},
   "outputs": [],
   "source": [
    "colors : https://www.w3schools.com/colors/colors_hexadecimal.asp"
   ]
  },
  {
   "cell_type": "code",
   "execution_count": null,
   "id": "d2d98780-575e-4431-b90d-8b0d8e7a57d7",
   "metadata": {},
   "outputs": [],
   "source": [
    "len a partir de 1\n",
    "index 0\n"
   ]
  },
  {
   "cell_type": "code",
   "execution_count": null,
   "id": "7f58cb26-64a5-4732-9b57-07177b166352",
   "metadata": {},
   "outputs": [],
   "source": [
    "thisset = set((\"apple\", \"banana\", \"cherry\")) # note the double round-brackets"
   ]
  },
  {
   "cell_type": "code",
   "execution_count": null,
   "id": "07023858-d5e3-44ca-a915-048cb2ed5792",
   "metadata": {},
   "outputs": [],
   "source": [
    "\n",
    "    List is a collection which is ordered and changeable. Allows duplicate members.\n",
    "    Tuple is a collection which is ordered and unchangeable. Allows duplicate members.\n",
    "    Set is a collection which is unordered, unchangeable*, and unindexed. No duplicate members.\n",
    "    Dictionary is a collection which is ordered** and changeable. No duplicate members.\n"
   ]
  },
  {
   "cell_type": "code",
   "execution_count": null,
   "id": "f1612d6b-29c3-4adc-b759-fefc4750bfca",
   "metadata": {},
   "outputs": [],
   "source": [
    "thisset = {\"apple\", \"banana\", \"cherry\"}\n",
    "\n",
    "print(\"banana\" in thisset)\n",
    "----True"
   ]
  },
  {
   "cell_type": "code",
   "execution_count": null,
   "id": "11f1638e-767b-4db8-be41-65fcd491a7ef",
   "metadata": {},
   "outputs": [],
   "source": [
    "Set : ADD, REMOVE (DISCARD), UPDATE , POP() - pop random item, CLEAR() , DEL, UNION(), UPDATE(), intersection() , symmetric_difference()"
   ]
  },
  {
   "cell_type": "code",
   "execution_count": null,
   "id": "95f0b56b-1fd3-4a9a-86d8-d27bfaef295b",
   "metadata": {},
   "outputs": [],
   "source": [
    "Note: If the item to remove does not exist, discard() will NOT raise an error."
   ]
  },
  {
   "cell_type": "code",
   "execution_count": null,
   "id": "09b4c996-5880-4ec2-ba14-59de619261ff",
   "metadata": {},
   "outputs": [],
   "source": [
    "thisset = {\"apple\", \"banana\", \"cherry\"}\n",
    "tropical = {\"pineapple\", \"mango\", \"papaya\"}\n",
    "\n",
    "thisset.update(tropical)\n",
    "\n",
    "print(thisset) \n",
    "\n"
   ]
  },
  {
   "cell_type": "code",
   "execution_count": null,
   "id": "a6b749c4-446f-437a-b880-cf497abbd36a",
   "metadata": {},
   "outputs": [],
   "source": [
    "thisset = {\"apple\", \"banana\", \"cherry\"}\n",
    "mylist = [\"kiwi\", \"orange\"]\n",
    "\n",
    "thisset.update(mylist)\n",
    "\n",
    "print(thisset)\n",
    "\n",
    "-----{'banana', 'cherry', 'apple', 'orange', 'kiwi'} "
   ]
  },
  {
   "cell_type": "code",
   "execution_count": null,
   "id": "4e63c7b9-da83-4f59-b1ab-1cb316e5db30",
   "metadata": {},
   "outputs": [],
   "source": [
    "thisset = {\"apple\", \"banana\", \"cherry\"}\n",
    "\n",
    "del thisset\n",
    "\n",
    "print(thisset) "
   ]
  },
  {
   "cell_type": "code",
   "execution_count": null,
   "id": "53903d0b-d4df-4b30-be3c-cac8a0aaea36",
   "metadata": {},
   "outputs": [],
   "source": [
    " set1 = {\"a\", \"b\" , \"c\"}\n",
    "set2 = {1, 2, 3}\n",
    "\n",
    "set3 = set1.union(set2)\n",
    "print(set3) "
   ]
  },
  {
   "cell_type": "code",
   "execution_count": null,
   "id": "ba8c4e9b-129b-4fb2-9333-1ab08e70c3e9",
   "metadata": {},
   "outputs": [],
   "source": []
  },
  {
   "cell_type": "code",
   "execution_count": null,
   "id": "afabe6c7-866c-41a9-b0aa-6e44fe8ab55f",
   "metadata": {},
   "outputs": [],
   "source": [
    "x = {\"apple\", \"banana\", \"cherry\"}\n",
    "y = {\"google\", \"microsoft\", \"apple\"}\n",
    "\n",
    "z = x.intersection(y)\n",
    "\n",
    "print(z) \n",
    "---- {'apple'} "
   ]
  },
  {
   "cell_type": "code",
   "execution_count": null,
   "id": "66b615ed-58d5-43ab-b8b8-83cd2be6636d",
   "metadata": {},
   "outputs": [],
   "source": [
    "\n"
   ]
  }
 ],
 "metadata": {
  "kernelspec": {
   "display_name": "Python 3 (ipykernel)",
   "language": "python",
   "name": "python3"
  },
  "language_info": {
   "codemirror_mode": {
    "name": "ipython",
    "version": 3
   },
   "file_extension": ".py",
   "mimetype": "text/x-python",
   "name": "python",
   "nbconvert_exporter": "python",
   "pygments_lexer": "ipython3",
   "version": "3.11.5"
  }
 },
 "nbformat": 4,
 "nbformat_minor": 5
}
